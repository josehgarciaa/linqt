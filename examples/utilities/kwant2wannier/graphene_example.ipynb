{
 "cells": [
  {
   "cell_type": "code",
   "execution_count": 1,
   "metadata": {},
   "outputs": [],
   "source": [
    "import kwant\n",
    "import matplotlib.pyplot as plt\n",
    "import numpy as np\n",
    "from kwant import wraparound\n",
    "from matplotlib import pyplot\n",
    "from numpy import linalg as LA\n",
    "from numpy import kron\n",
    "import tinyarray\n",
    "import time\n",
    "import itertools\n",
    "import sys\n",
    "sys.path.append('/data/jgarcia/codes/linqt/utilities/python/tight-binding/')\n",
    "\n",
    "#Custom functions\n",
    "from kwant2wannier import syst2txt, geo2txt\n",
    "import graphene\n"
   ]
  },
  {
   "cell_type": "code",
   "execution_count": 2,
   "metadata": {},
   "outputs": [],
   "source": [
    "syst = graphene.make_bulk_graphene()                 \n",
    "syst_name = \"graphene_example\"\n",
    "hopping_params = {\n",
    "                    \"fermi_energy\":0.0,\\\n",
    "                    \"staggered_potential\":0.0,\\\n",
    "                    \"hopping_t0\":1.0,\\\n",
    "                    \"lambda_rso\":0.0,\\\n",
    "                    \"lambda_iso\":1.0,\\\n",
    "                    \"lambda_vz\" :0.0\n",
    "                };\n",
    "site_dict = {0:\"A_s+_\",1:\"A_s-_\"};\n",
    "syst2txt(syst,syst_name,hopping_params);\n",
    "geo2txt(syst, graphene.lattice_vectors,site_dict, syst_name );"
   ]
  },
  {
   "cell_type": "code",
   "execution_count": null,
   "metadata": {},
   "outputs": [],
   "source": []
  },
  {
   "cell_type": "code",
   "execution_count": null,
   "metadata": {},
   "outputs": [],
   "source": []
  }
 ],
 "metadata": {
  "kernelspec": {
   "display_name": "Python 3",
   "language": "python",
   "name": "python3"
  },
  "language_info": {
   "codemirror_mode": {
    "name": "ipython",
    "version": 3
   },
   "file_extension": ".py",
   "mimetype": "text/x-python",
   "name": "python",
   "nbconvert_exporter": "python",
   "pygments_lexer": "ipython3",
   "version": "3.6.9"
  }
 },
 "nbformat": 4,
 "nbformat_minor": 2
}
