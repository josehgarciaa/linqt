{
 "cells": [
  {
   "cell_type": "code",
   "execution_count": 1,
   "metadata": {},
   "outputs": [],
   "source": [
    "import numpy as np\n",
    "import matplotlib.pyplot as plt"
   ]
  },
  {
   "cell_type": "code",
   "execution_count": 51,
   "metadata": {},
   "outputs": [],
   "source": [
    "lat = [ [1,0,0],[0,2,0],[0,0,1]];\n",
    "rec = np.linalg.inv(lat).T/2/np.pi ;\n",
    "xyz = [ [0,0,0],[0,0.5,0],[0,0,0]];\n",
    "supercell = [3,3,1]; numcells = np.prod(supercell);\n"
   ]
  },
  {
   "cell_type": "code",
   "execution_count": null,
   "metadata": {},
   "outputs": [],
   "source": []
  },
  {
   "cell_type": "code",
   "execution_count": 52,
   "metadata": {},
   "outputs": [],
   "source": [
    "x0,x1,x2 = [ np.linspace(0,1,n,endpoint=False) for n in supercell ];\n",
    "x0,x1,x2 = np.meshgrid(x0,x1,x2);\n",
    "grid  =np.array( [x0,x1,x2]).T.reshape(numcells,3);\n",
    "pos = grid.dot(lat);\n",
    "kps = grid.dot(rec);"
   ]
  },
  {
   "cell_type": "code",
   "execution_count": 60,
   "metadata": {},
   "outputs": [],
   "source": [
    "rvec = np.exp( np.random.random(x0.shape)*2j*np.pi );\n",
    "kvec = np.fft.fftn(rvec);"
   ]
  },
  {
   "cell_type": "code",
   "execution_count": 61,
   "metadata": {},
   "outputs": [
    {
     "data": {
      "text/plain": [
       "array([[[ 0.98598638-0.16682584j],\n",
       "        [ 0.8163045 -0.57762181j],\n",
       "        [ 0.98775888-0.15598843j]],\n",
       "\n",
       "       [[-0.18746012-0.98227221j],\n",
       "        [-0.45066299+0.89269416j],\n",
       "        [ 0.47505685-0.87995511j]],\n",
       "\n",
       "       [[ 0.98801775-0.15434028j],\n",
       "        [ 0.70320584-0.71098632j],\n",
       "        [-0.99921559-0.03960049j]]])"
      ]
     },
     "execution_count": 61,
     "metadata": {},
     "output_type": "execute_result"
    }
   ],
   "source": [
    "def filter(x)\n",
    "    if True \n",
    "        return x;\n",
    "    else:\n",
    "        return 0;"
   ]
  },
  {
   "cell_type": "code",
   "execution_count": null,
   "metadata": {},
   "outputs": [],
   "source": []
  }
 ],
 "metadata": {
  "kernelspec": {
   "display_name": "Python 3",
   "language": "python",
   "name": "python3"
  },
  "language_info": {
   "codemirror_mode": {
    "name": "ipython",
    "version": 3
   },
   "file_extension": ".py",
   "mimetype": "text/x-python",
   "name": "python",
   "nbconvert_exporter": "python",
   "pygments_lexer": "ipython3",
   "version": "3.6.9"
  }
 },
 "nbformat": 4,
 "nbformat_minor": 2
}
